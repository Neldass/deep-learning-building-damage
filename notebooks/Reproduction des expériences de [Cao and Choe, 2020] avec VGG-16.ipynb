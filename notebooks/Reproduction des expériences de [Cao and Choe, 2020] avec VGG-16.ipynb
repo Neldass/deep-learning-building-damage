# Sélection automatique du device (priorité: CUDA > MPS > CPU)
import torch
_device = torch.device("cuda" if torch.cuda.is_available() else ("mps" if getattr(torch.backends, 'mps', None) and torch.backends.mps.is_available() else "cpu"))
try:
    device
except NameError:
    device = _device
else:
    device = _device
print("Using device:", device){
 "cells": [
  {
   "cell_type": "markdown",
   "metadata": {},
   "source": [
    "# Reproduction des expériences de [Cao and Choe, 2020] avec VGG-16.\n",
    "\n",
    "Ce notebook utilise PyTorch pour entraîner un modèle CNN personnalisé afin de classifier les bâtiments endommagés après un ouragan. Il inclut les étapes suivantes :\n",
    "- Préparation des données\n",
    "- Définition du modèle CNN\n",
    "- Entraînement\n",
    "- Évaluation sur des ensembles de test équilibrés et déséquilibrés"
   ]
  },
  {
   "cell_type": "markdown",
   "metadata": {},
   "source": [
    "## Importer les Bibliothèques Nécessaires"
   ]
  },
  {
   "cell_type": "code",
   "execution_count": 2,
   "metadata": {},
   "outputs": [],
   "source": [
    "import torch\n",
    "import torch.nn as nn\n",
    "import torch.optim as optim\n",
    "from torchvision import datasets, transforms\n",
    "from torch.utils.data import DataLoader\n",
    "from torchvision import models\n",
    "from sklearn.metrics import accuracy_score, f1_score\n",
    "import os\n",
    "from tqdm import tqdm\n",
    "from sklearn.linear_model import LogisticRegression\n",
    "from sklearn.svm import LinearSVC\n",
    "from sklearn.metrics import classification_report, roc_auc_score, f1_score\n",
    "from sklearn.preprocessing import StandardScaler\n",
    "import numpy as np  \n",
    "import pandas as pd\n",
    "import matplotlib.pyplot as plt\n",
    "device = torch.device(\"mps\" if torch.backends.mps.is_available() else \"cpu\") # Multi-Processing Service pour mon macbook\n",
    "\n"
   ]
  },
  {
   "cell_type": "markdown",
   "metadata": {},
   "source": [
    "## Préparer les Données\n",
    "\n",
    "Nous utilisons la structure de dataset suivante :\n",
    "\n",
    "\n",
    "```\n",
    "Post-hurricane/\n",
    "├── train/\n",
    "│   ├── damage/\n",
    "│   └── no_damage/\n",
    "└── val/\n",
    "│   ├── damage/\n",
    "│   └── no_damage/\n",
    "└─── test/\n",
    "    ├── damage/\n",
    "    └── no_damage/\n",
    "```"
   ]
  },
  {
   "cell_type": "code",
   "execution_count": 3,
   "metadata": {},
   "outputs": [
    {
     "name": "stdout",
     "output_type": "stream",
     "text": [
      "Nombre d'images dans le dataset d'entraînement : 10000\n",
      "Nombre d'images dans le dataset de validation : 2000\n",
      "Nombre d'images dans le dataset de test équilibré : 2000\n",
      "Nombre d'images dans le dataset de test déséquilibré : 9000\n",
      "Classes : ['damage', 'no_damage']\n"
     ]
    }
   ],
   "source": [
    "# Organisation des données\n",
    "data_dir = \"Post-hurricane\"\n",
    "train_dir = os.path.join(data_dir, \"train_another\")\n",
    "val_dir = os.path.join(data_dir, \"validation_another\")\n",
    "test_balanced_dir = os.path.join(data_dir, \"test\")\n",
    "test_unbalanced_dir = os.path.join(data_dir, \"test_another\")\n",
    "\n",
    "# Transformations appliquées aux données\n",
    "transformations = {\n",
    "    'train': transforms.Compose([\n",
    "    transforms.Resize((150, 150)),\n",
    "    transforms.RandomHorizontalFlip(),                    \n",
    "    transforms.RandomRotation(20),                        \n",
    "    transforms.ToTensor()\n",
    "    ]),\n",
    "    \n",
    "    'val_test': transforms.Compose([\n",
    "        transforms.Resize((150, 150)),\n",
    "        transforms.ToTensor()\n",
    "    ])\n",
    "}\n",
    "\n",
    "# Chargement des données\n",
    "train_dataset = datasets.ImageFolder(train_dir, transformations['train'])\n",
    "val_dataset = datasets.ImageFolder(val_dir, transformations['val_test'])\n",
    "test_balanced_dataset = datasets.ImageFolder(test_balanced_dir, transformations['val_test'])\n",
    "test_unbalanced_dataset = datasets.ImageFolder(test_unbalanced_dir, transformations['val_test'])\n",
    "\n",
    "# Création des DataLoaders\n",
    "train_loader = DataLoader(train_dataset, batch_size=32, shuffle=True)\n",
    "val_loader = DataLoader(val_dataset, batch_size=32, shuffle=False)\n",
    "test_balanced_loader = DataLoader(test_balanced_dataset, batch_size=32, shuffle=False)\n",
    "test_unbalanced_loader = DataLoader(test_unbalanced_dataset, batch_size=32, shuffle=False)\n",
    "\n",
    "# Obtenir les classes\n",
    "class_names = train_dataset.classes\n",
    "\n",
    "\n",
    "# Affichage des informations sur les datasets\n",
    "print(f\"Nombre d'images dans le dataset d'entraînement : {len(train_dataset)}\")\n",
    "print(f\"Nombre d'images dans le dataset de validation : {len(val_dataset)}\")\n",
    "print(f\"Nombre d'images dans le dataset de test équilibré : {len(test_balanced_dataset)}\")\n",
    "print(f\"Nombre d'images dans le dataset de test déséquilibré : {len(test_unbalanced_dataset)}\")\n",
    "print(f\"Classes : {class_names}\")"
   ]
  },
  {
   "cell_type": "markdown",
   "metadata": {},
   "source": [
    "## Définir le Modèle CNN Personnalisé (CNN + DA + DO (Adam))"
   ]
  },
  {
   "cell_type": "code",
   "execution_count": 4,
   "metadata": {},
   "outputs": [],
   "source": [
    "class CustomCNN(nn.Module):\n",
    "    def __init__(self):\n",
    "        super(CustomCNN, self).__init__()\n",
    "        self.features = nn.Sequential(\n",
    "            nn.Conv2d(3, 32, kernel_size=3),  # 32@(148x148)\n",
    "            nn.ReLU(),\n",
    "            nn.MaxPool2d(kernel_size=2),     # 32@(74x74)\n",
    "            nn.Conv2d(32, 64, kernel_size=3), # 64@(72x72)\n",
    "            nn.ReLU(),\n",
    "            nn.MaxPool2d(kernel_size=2),     # 64@(36x36)\n",
    "            nn.Conv2d(64, 128, kernel_size=3), # 128@(34x34)\n",
    "            nn.ReLU(),\n",
    "            nn.MaxPool2d(kernel_size=2),     # 128@(17x17)\n",
    "            nn.Conv2d(128, 128, kernel_size=3), # 128@(15x15)\n",
    "            nn.ReLU(),\n",
    "            nn.MaxPool2d(kernel_size=2)      # 128@(7x7)\n",
    "        )\n",
    "        self.classifier = nn.Sequential(\n",
    "            nn.Flatten(),                    # 1x6272\n",
    "            nn.Dropout(0.5),\n",
    "            nn.Linear(128 * 7 * 7, 512),     # Fully connected layer 1x512\n",
    "            nn.ReLU(),\n",
    "            nn.Linear(512, 1)                # Fully connected layer 1x1\n",
    "        )\n",
    "        \n",
    "    def forward(self, x):\n",
    "        x = self.features(x)\n",
    "        x = self.classifier(x)\n",
    "        return x\n",
    "\n",
    "# Instanciation du modèle\n",
    "model_CNN = CustomCNN()"
   ]
  },
  {
   "cell_type": "markdown",
   "metadata": {},
   "source": [
    "## Définir le modèle de transfer VGG16"
   ]
  },
  {
   "cell_type": "code",
   "execution_count": 5,
   "metadata": {},
   "outputs": [
    {
     "name": "stderr",
     "output_type": "stream",
     "text": [
      "/opt/anaconda3/lib/python3.10/site-packages/torchvision/models/_utils.py:208: UserWarning: The parameter 'pretrained' is deprecated since 0.13 and may be removed in the future, please use 'weights' instead.\n",
      "  warnings.warn(\n",
      "/opt/anaconda3/lib/python3.10/site-packages/torchvision/models/_utils.py:223: UserWarning: Arguments other than a weight enum or `None` for 'weights' are deprecated since 0.13 and may be removed in the future. The current behavior is equivalent to passing `weights=VGG16_Weights.IMAGENET1K_V1`. You can also use `weights=VGG16_Weights.DEFAULT` to get the most up-to-date weights.\n",
      "  warnings.warn(msg)\n"
     ]
    }
   ],
   "source": [
    "try:
    model_transfer = models.vgg16(weights=models.VGG16_Weights.DEFAULT)
except Exception:
    try:
    model_transfer = models.vgg16(weights=models.VGG16_Weights.DEFAULT)
except Exception:
    try:
    model_transfer = models.vgg16(weights=models.VGG16_Weights.DEFAULT)
except Exception:
    model_transfer = models.vgg16(pretrained=True)
model_transfer = model_transfer.to(device)
model_transfer = model_transfer.to(device)\n",
    "for param in model_transfer.features.parameters():\n",
    "    param.requires_grad = False\n",
    "\n",
    "model_transfer.classifier = nn.Sequential(\n",
    "    nn.Linear(25088, 4096),\n",
    "    nn.ReLU(),\n",
    "    nn.Dropout(0.5),\n",
    "    nn.Linear(4096, 4096),\n",
    "    nn.ReLU(),\n",
    "    nn.Dropout(0.5),\n",
    "    nn.Linear(4096, 1)\n",
    ")"
   ]
  },
  {
   "cell_type": "markdown",
   "metadata": {},
   "source": [
    "## Extraction de features pour les modèles de ML"
   ]
  },
  {
   "cell_type": "code",
   "execution_count": 6,
   "metadata": {},
   "outputs": [
    {
     "name": "stderr",
     "output_type": "stream",
     "text": [
      "                                                                          \r"
     ]
    }
   ],
   "source": [
    "# 🔍 Feature extractor : CNN sans classifieur \n",
    "vgg16 = models.vgg16(pretrained=True).to(device)\n",
    "vgg16.classifier = nn.Identity()  # On enlève complètement la partie fully connected\n",
    "\n",
    "for param in vgg16.parameters():\n",
    "    param.requires_grad = False\n",
    "\n",
    "# Extraction des features avec une barre de progression\n",
    "def extract_features_with_progress(dataloader):\n",
    "    vgg16.eval()\n",
    "    features, labels = [], []\n",
    "\n",
    "    with torch.no_grad():\n",
    "        progress_bar = tqdm(dataloader, desc=\"Extraction des features\", leave=False)\n",
    "        for inputs, targets in progress_bar:\n",
    "            inputs = inputs.to(device)\n",
    "            output = vgg16.features(inputs)\n",
    "            output = vgg16.avgpool(output)\n",
    "            output = torch.flatten(output, 1)  \n",
    "            features.append(output.cpu().numpy())\n",
    "            labels.append(targets.numpy())\n",
    "\n",
    "    return np.vstack(features), np.concatenate(labels)\n",
    "\n",
    "# Utilisation de la fonction avec barre de progression\n",
    "X_train, y_train = extract_features_with_progress(train_loader)\n",
    "X_val, y_val = extract_features_with_progress(val_loader)\n"
   ]
  },
  {
   "cell_type": "markdown",
   "metadata": {},
   "source": [
    "## Définir la Fonction de Perte et l'Optimiseur"
   ]
  },
  {
   "cell_type": "code",
   "execution_count": 7,
   "metadata": {},
   "outputs": [],
   "source": [
    "criterion = nn.BCEWithLogitsLoss()\n",
    "optimizer_CNN = optim.Adam(model_CNN.parameters(), lr=1e-4)\n",
    "optimizer_Transfer = optim.Adam(filter(lambda p: p.requires_grad, model_transfer.parameters()), lr=1e-4)\n"
   ]
  },
  {
   "cell_type": "markdown",
   "metadata": {},
   "source": [
    "## Entraînement et validation du Modèle CNN custom"
   ]
  },
  {
   "cell_type": "code",
   "execution_count": 8,
   "metadata": {},
   "outputs": [
    {
     "name": "stderr",
     "output_type": "stream",
     "text": [
      "                                                                                          \r"
     ]
    },
    {
     "name": "stdout",
     "output_type": "stream",
     "text": [
      "Epoch 1/10 - Train Acc: 0.7282 - Val Acc: 0.8875\n"
     ]
    },
    {
     "name": "stderr",
     "output_type": "stream",
     "text": [
      "                                                                                           \r"
     ]
    },
    {
     "name": "stdout",
     "output_type": "stream",
     "text": [
      "Epoch 2/10 - Train Acc: 0.8900 - Val Acc: 0.8790\n"
     ]
    },
    {
     "name": "stderr",
     "output_type": "stream",
     "text": [
      "                                                                                               \r"
     ]
    },
    {
     "name": "stdout",
     "output_type": "stream",
     "text": [
      "Epoch 3/10 - Train Acc: 0.9084 - Val Acc: 0.9245\n"
     ]
    },
    {
     "name": "stderr",
     "output_type": "stream",
     "text": [
      "                                                                                           \r"
     ]
    },
    {
     "name": "stdout",
     "output_type": "stream",
     "text": [
      "Epoch 4/10 - Train Acc: 0.9154 - Val Acc: 0.9235\n"
     ]
    },
    {
     "name": "stderr",
     "output_type": "stream",
     "text": [
      "                                                                                           \r"
     ]
    },
    {
     "name": "stdout",
     "output_type": "stream",
     "text": [
      "Epoch 5/10 - Train Acc: 0.9238 - Val Acc: 0.9255\n"
     ]
    },
    {
     "name": "stderr",
     "output_type": "stream",
     "text": [
      "                                                                                           \r"
     ]
    },
    {
     "name": "stdout",
     "output_type": "stream",
     "text": [
      "Epoch 6/10 - Train Acc: 0.9288 - Val Acc: 0.9320\n"
     ]
    },
    {
     "name": "stderr",
     "output_type": "stream",
     "text": [
      "                                                                                           \r"
     ]
    },
    {
     "name": "stdout",
     "output_type": "stream",
     "text": [
      "Epoch 7/10 - Train Acc: 0.9333 - Val Acc: 0.9455\n"
     ]
    },
    {
     "name": "stderr",
     "output_type": "stream",
     "text": [
      "                                                                                           \r"
     ]
    },
    {
     "name": "stdout",
     "output_type": "stream",
     "text": [
      "Epoch 8/10 - Train Acc: 0.9369 - Val Acc: 0.9410\n"
     ]
    },
    {
     "name": "stderr",
     "output_type": "stream",
     "text": [
      "                                                                                           \r"
     ]
    },
    {
     "name": "stdout",
     "output_type": "stream",
     "text": [
      "Epoch 9/10 - Train Acc: 0.9417 - Val Acc: 0.9515\n"
     ]
    },
    {
     "name": "stderr",
     "output_type": "stream",
     "text": [
      "                                                                                            "
     ]
    },
    {
     "name": "stdout",
     "output_type": "stream",
     "text": [
      "Epoch 10/10 - Train Acc: 0.9468 - Val Acc: 0.9455\n"
     ]
    },
    {
     "name": "stderr",
     "output_type": "stream",
     "text": [
      "\r"
     ]
    }
   ],
   "source": [
    "\n",
    "num_epochs = 10\n",
    "train_accs_CNN, val_accs_CNN = [], []\n",
    "\n",
    "for epoch in range(num_epochs):\n",
    "    model_CNN.train()\n",
    "    running_loss, correct, total = 0, 0, 0\n",
    "    progress_bar = tqdm(train_loader, desc=f\"Epoch {epoch+1}/{num_epochs}\", leave=False)\n",
    "    for inputs, labels in progress_bar:\n",
    "        inputs, labels = inputs, labels.float().unsqueeze(1)\n",
    "        optimizer_CNN.zero_grad()\n",
    "        outputs = model_CNN(inputs)\n",
    "        loss = criterion(outputs, labels)\n",
    "        loss.backward()\n",
    "        optimizer_CNN.step()\n",
    "\n",
    "        preds = torch.sigmoid(outputs) > 0.5\n",
    "        correct += (preds == labels.byte()).sum().item()\n",
    "        total += labels.size(0)\n",
    "        running_loss += loss.item()\n",
    "\n",
    "        progress_bar.set_postfix(loss=running_loss / total, accuracy=correct / total)\n",
    "\n",
    "    train_acc = correct / total\n",
    "    train_accs_CNN.append(train_acc)\n",
    "\n",
    "    model_CNN.eval()\n",
    "    correct, total = 0, 0\n",
    "    all_labels_CNN, all_preds_CNN = [], []\n",
    "\n",
    "    with torch.no_grad():\n",
    "        progress_bar = tqdm(val_loader, desc=\"Validation\", leave=False)\n",
    "        for inputs, labels in progress_bar:\n",
    "            inputs, labels = inputs, labels.float().unsqueeze(1)\n",
    "            outputs = model_CNN(inputs)\n",
    "            preds = torch.sigmoid(outputs) > 0.5\n",
    "            correct += (preds == labels.byte()).sum().item()\n",
    "            total += labels.size(0)\n",
    "            all_labels_CNN.extend(labels.squeeze(1).cpu().numpy())\n",
    "            all_preds_CNN.extend(torch.sigmoid(outputs).cpu().numpy())\n",
    "\n",
    "            progress_bar.set_postfix(accuracy=correct / total)\n",
    "\n",
    "    val_acc = correct / total\n",
    "    val_accs_CNN.append(val_acc)\n",
    "\n",
    "    print(f\"Epoch {epoch+1}/{num_epochs} - Train Acc: {train_acc:.4f} - Val Acc: {val_acc:.4f}\") "
   ]
  },
  {
   "cell_type": "markdown",
   "metadata": {},
   "source": [
    "## Entrainement et validation du modèle transfer VGG+DO"
   ]
  },
  {
   "cell_type": "code",
   "execution_count": 9,
   "metadata": {},
   "outputs": [
    {
     "name": "stderr",
     "output_type": "stream",
     "text": [
      "                                                                                          \r"
     ]
    },
    {
     "name": "stdout",
     "output_type": "stream",
     "text": [
      "Epoch 1/10 - Train Acc: 0.8549 - Val Acc: 0.8885\n"
     ]
    },
    {
     "name": "stderr",
     "output_type": "stream",
     "text": [
      "                                                                                             \r"
     ]
    },
    {
     "name": "stdout",
     "output_type": "stream",
     "text": [
      "Epoch 2/10 - Train Acc: 0.8955 - Val Acc: 0.8955\n"
     ]
    },
    {
     "name": "stderr",
     "output_type": "stream",
     "text": [
      "                                                                                               \r"
     ]
    },
    {
     "name": "stdout",
     "output_type": "stream",
     "text": [
      "Epoch 3/10 - Train Acc: 0.9068 - Val Acc: 0.8945\n"
     ]
    },
    {
     "name": "stderr",
     "output_type": "stream",
     "text": [
      "                                                                                             \r"
     ]
    },
    {
     "name": "stdout",
     "output_type": "stream",
     "text": [
      "Epoch 4/10 - Train Acc: 0.9097 - Val Acc: 0.9000\n"
     ]
    },
    {
     "name": "stderr",
     "output_type": "stream",
     "text": [
      "                                                                                             \r"
     ]
    },
    {
     "name": "stdout",
     "output_type": "stream",
     "text": [
      "Epoch 5/10 - Train Acc: 0.9193 - Val Acc: 0.9060\n"
     ]
    },
    {
     "name": "stderr",
     "output_type": "stream",
     "text": [
      "                                                                                           \r"
     ]
    },
    {
     "name": "stdout",
     "output_type": "stream",
     "text": [
      "Epoch 6/10 - Train Acc: 0.9224 - Val Acc: 0.8905\n"
     ]
    },
    {
     "name": "stderr",
     "output_type": "stream",
     "text": [
      "                                                                                           \r"
     ]
    },
    {
     "name": "stdout",
     "output_type": "stream",
     "text": [
      "Epoch 7/10 - Train Acc: 0.9215 - Val Acc: 0.8965\n"
     ]
    },
    {
     "name": "stderr",
     "output_type": "stream",
     "text": [
      "                                                                                           \r"
     ]
    },
    {
     "name": "stdout",
     "output_type": "stream",
     "text": [
      "Epoch 8/10 - Train Acc: 0.9259 - Val Acc: 0.8990\n"
     ]
    },
    {
     "name": "stderr",
     "output_type": "stream",
     "text": [
      "                                                                                           \r"
     ]
    },
    {
     "name": "stdout",
     "output_type": "stream",
     "text": [
      "Epoch 9/10 - Train Acc: 0.9289 - Val Acc: 0.9180\n"
     ]
    },
    {
     "name": "stderr",
     "output_type": "stream",
     "text": [
      "                                                                                            "
     ]
    },
    {
     "name": "stdout",
     "output_type": "stream",
     "text": [
      "Epoch 10/10 - Train Acc: 0.9307 - Val Acc: 0.9260\n"
     ]
    },
    {
     "name": "stderr",
     "output_type": "stream",
     "text": [
      "\r"
     ]
    }
   ],
   "source": [
    "num_epochs = 10\n",
    "train_accs_TA, val_accs_TA = [], []\n",
    "\n",
    "for epoch in range(num_epochs):\n",
    "    model_transfer.train()\n",
    "    running_loss, correct, total = 0, 0, 0\n",
    "    progress_bar = tqdm(train_loader, desc=f\"Epoch {epoch+1}/{num_epochs}\", leave=False)\n",
    "    for inputs, labels in progress_bar:\n",
    "        inputs, labels = inputs, labels.float().unsqueeze(1)\n",
    "        optimizer_Transfer.zero_grad()\n",
    "        outputs = model_transfer(inputs)\n",
    "        loss = criterion(outputs, labels)\n",
    "        loss.backward()\n",
    "        optimizer_Transfer.step()\n",
    "\n",
    "        preds = torch.sigmoid(outputs) > 0.5\n",
    "        correct += (preds == labels.byte()).sum().item()\n",
    "        total += labels.size(0)\n",
    "        running_loss += loss.item()\n",
    "\n",
    "        progress_bar.set_postfix(loss=running_loss / total, accuracy=correct / total)\n",
    "\n",
    "    train_acc = correct / total\n",
    "    train_accs_TA.append(train_acc)\n",
    "\n",
    "    \n",
    "    model_transfer.eval()  # Mettre le modèle en mode évaluation\n",
    "    correct, total = 0, 0\n",
    "    all_labels_TA, all_preds_TA = [], []\n",
    "\n",
    "    with torch.no_grad():  # Désactiver la rétropropagation pour l'évaluation\n",
    "        progress_bar = tqdm(val_loader, desc=\"Validation\", leave=False)  # Barre de progression\n",
    "        for inputs, labels in progress_bar:\n",
    "            # Déplacer les données sur le GPU si disponible\n",
    "            inputs, labels = inputs, labels.float().unsqueeze(1)\n",
    "            \n",
    "            # Passer les données dans le modèle\n",
    "            outputs = model_transfer(inputs)\n",
    "            \n",
    "            # Appliquer une fonction sigmoïde pour obtenir les probabilités\n",
    "            preds = torch.sigmoid(outputs) > 0.5\n",
    "            \n",
    "            # Calculer le nombre de prédictions correctes\n",
    "            correct += (preds == labels.byte()).sum().item()\n",
    "            total += labels.size(0)\n",
    "            \n",
    "            # Stocker les prédictions et les labels pour des métriques supplémentaires\n",
    "            all_labels_TA.extend(labels.squeeze(1).cpu().numpy())\n",
    "            all_preds_TA.extend(torch.sigmoid(outputs).cpu().numpy())\n",
    "            \n",
    "            # Mettre à jour la barre de progression avec l'accuracy actuelle\n",
    "            progress_bar.set_postfix(accuracy=correct / total)\n",
    "\n",
    "    # Calcul de l'accuracy finale sur l'ensemble de validation\n",
    "    val_acc = correct / total\n",
    "    val_accs_TA.append(val_acc)  \n",
    "\n",
    "    # Afficher les résultats de l'époque\n",
    "    print(f\"Epoch {epoch+1}/{num_epochs} - Train Acc: {train_acc:.4f} - Val Acc: {val_acc:.4f}\")"
   ]
  },
  {
   "cell_type": "markdown",
   "metadata": {},
   "source": [
    "## Validation modèle CNN custom"
   ]
  },
  {
   "cell_type": "markdown",
   "metadata": {},
   "source": [
    "## Validation du modèle transfer VGG16 + DO"
   ]
  },
  {
   "cell_type": "markdown",
   "metadata": {},
   "source": [
    "## Définition des modèles de ML (LR et SVM)"
   ]
  },
  {
   "cell_type": "code",
   "execution_count": 10,
   "metadata": {},
   "outputs": [],
   "source": [
    "#  Logistic Regression avec L2 régularisation (λ = 1e-6 => C = 1e6)\n",
    "logreg = LogisticRegression(C=1e6, penalty='l2', max_iter=1000, solver='lbfgs')\n",
    "logreg.fit(X_train, y_train)\n",
    "\n",
    "# Prédictions pour LR\n",
    "y_prob_LR = logreg.predict_proba(X_val)[:, 1]\n",
    "y_pred_LR = (y_prob_LR > 0.5).astype(int)\n",
    "\n",
    "# Standardisation des features (important pour SVM)\n",
    "scaler = StandardScaler()\n",
    "X_train = scaler.fit_transform(X_train)\n",
    "X_val = scaler.transform(X_val)\n",
    "\n",
    "# SVM + L2 (λ = 1e-6 → C = 1e6)\n",
    "svm = LinearSVC(C=1e6, penalty='l2', max_iter=2000)\n",
    "svm.fit(X_train, y_train)\n",
    "\n",
    "# Prédictions pour SVM\n",
    "y_pred_SVM = svm.predict(X_val)\n",
    "\n",
    "#  Note : LinearSVC ne fournit pas y_prob directement → on ne peut pas faire AUC\n",
    "# Mais on peut estimer la décision par distance au plan (decision_function)\n",
    "y_score_SVM = svm.decision_function(X_val)\n",
    "y_prob_SVM = 1 / (1 + np.exp(-y_score_SVM))  # Sigmoïde approx."
   ]
  },
  {
   "cell_type": "markdown",
   "metadata": {},
   "source": [
    "## Evalution des performances des différents modèles\n",
    "\n"
   ]
  },
  {
   "cell_type": "code",
   "execution_count": 11,
   "metadata": {},
   "outputs": [
    {
     "name": "stdout",
     "output_type": "stream",
     "text": [
      "\n",
      " Classification Report du modèle CNN custom:\n",
      "              precision    recall  f1-score   support\n",
      "\n",
      "      damage       0.92      0.98      0.95      1000\n",
      "   no_damage       0.98      0.91      0.94      1000\n",
      "\n",
      "    accuracy                           0.95      2000\n",
      "   macro avg       0.95      0.95      0.95      2000\n",
      "weighted avg       0.95      0.95      0.95      2000\n",
      "\n",
      "AUC: 0.98913\n",
      "F1 Score: 0.94355\n"
     ]
    },
    {
     "data": {
      "image/png": "[encoded data removed]",
      "text/plain": [
       "<Figure size 640x480 with 1 Axes>"
      ]
     },
     "metadata": {},
     "output_type": "display_data"
    },
    {
     "name": "stdout",
     "output_type": "stream",
     "text": [
      "\n",
      " Classification Report du modèle CNN custom:\n",
      "              precision    recall  f1-score   support\n",
      "\n",
      "      damage       0.94      0.91      0.92      1000\n",
      "   no_damage       0.91      0.95      0.93      1000\n",
      "\n",
      "    accuracy                           0.93      2000\n",
      "   macro avg       0.93      0.93      0.93      2000\n",
      "weighted avg       0.93      0.93      0.93      2000\n",
      "\n",
      "AUC: 0.97504\n",
      "F1 Score: 0.92752\n"
     ]
    },
    {
     "data": {
      "image/png": "[encoded data removed]",
      "text/plain": [
       "<Figure size 640x480 with 1 Axes>"
      ]
     },
     "metadata": {},
     "output_type": "display_data"
    },
    {
     "name": "stdout",
     "output_type": "stream",
     "text": [
      "\n",
      " Évaluation de la régression logistique (LR + L2) :\n",
      "              precision    recall  f1-score   support\n",
      "\n",
      "      damage       0.90      0.80      0.85      1000\n",
      "   no_damage       0.82      0.91      0.86      1000\n",
      "\n",
      "    accuracy                           0.86      2000\n",
      "   macro avg       0.86      0.86      0.86      2000\n",
      "weighted avg       0.86      0.86      0.86      2000\n",
      "\n",
      "AUC: 0.91625\n",
      "F1 Score: 0.86420\n",
      "\n",
      " Évaluation du modèle SVM + L2 :\n",
      "              precision    recall  f1-score   support\n",
      "\n",
      "      damage       0.86      0.83      0.84      1000\n",
      "   no_damage       0.84      0.86      0.85      1000\n",
      "\n",
      "    accuracy                           0.85      2000\n",
      "   macro avg       0.85      0.85      0.85      2000\n",
      "weighted avg       0.85      0.85      0.85      2000\n",
      "\n",
      "AUC (approx): 0.90940\n",
      "F1 Score: 0.84998\n"
     ]
    },
    {
     "data": {
      "text/html": [
       "<div>\n",
       "<style scoped>\n",
       "    .dataframe tbody tr th:only-of-type {\n",
       "        vertical-align: middle;\n",
       "    }\n",
       "\n",
       "    .dataframe tbody tr th {\n",
       "        vertical-align: top;\n",
       "    }\n",
       "\n",
       "    .dataframe thead th {\n",
       "        text-align: right;\n",
       "    }\n",
       "</style>\n",
       "<table border=\"1\" class=\"dataframe\">\n",
       "  <thead>\n",
       "    <tr style=\"text-align: right;\">\n",
       "      <th></th>\n",
       "      <th>accuracy</th>\n",
       "      <th>auc</th>\n",
       "      <th>f1</th>\n",
       "    </tr>\n",
       "  </thead>\n",
       "  <tbody>\n",
       "    <tr>\n",
       "      <th>CNN + DA + DO</th>\n",
       "      <td>0.9455</td>\n",
       "      <td>0.989132</td>\n",
       "      <td>0.943553</td>\n",
       "    </tr>\n",
       "    <tr>\n",
       "      <th>Transfer + DO</th>\n",
       "      <td>0.9260</td>\n",
       "      <td>0.975040</td>\n",
       "      <td>0.927522</td>\n",
       "    </tr>\n",
       "    <tr>\n",
       "      <th>LR + L2</th>\n",
       "      <td>0.8570</td>\n",
       "      <td>0.916254</td>\n",
       "      <td>0.864198</td>\n",
       "    </tr>\n",
       "    <tr>\n",
       "      <th>SVM + L2</th>\n",
       "      <td>0.8475</td>\n",
       "      <td>0.909402</td>\n",
       "      <td>0.849975</td>\n",
       "    </tr>\n",
       "  </tbody>\n",
       "</table>\n",
       "</div>"
      ],
      "text/plain": [
       "               accuracy       auc        f1\n",
       "CNN + DA + DO    0.9455  0.989132  0.943553\n",
       "Transfer + DO    0.9260  0.975040  0.927522\n",
       "LR + L2          0.8570  0.916254  0.864198\n",
       "SVM + L2         0.8475  0.909402  0.849975"
      ]
     },
     "metadata": {},
     "output_type": "display_data"
    }
   ],
   "source": [
    "# Évaluation finale du modèle CNN simplifié\n",
    "y_true_CNN = np.array(all_labels_CNN)\n",
    "y_prob_CNN = np.array(all_preds_CNN).flatten()\n",
    "y_pred_CNN = y_prob_CNN > 0.5\n",
    "\n",
    "print(\"\\n Classification Report du modèle CNN custom:\")\n",
    "print(classification_report(y_true_CNN, y_pred_CNN, target_names=class_names))\n",
    "print(f\"AUC: {roc_auc_score(y_true_CNN, y_prob_CNN):.5f}\")\n",
    "print(f\"F1 Score: {f1_score(y_true_CNN, y_pred_CNN):.5f}\")\n",
    "\n",
    "# Visualisation des performances\n",
    "plt.plot(train_accs_CNN, label='Train Acc', linestyle='none', marker='o')  \n",
    "plt.plot(val_accs_CNN, label='Val Acc', linestyle='-', marker='') \n",
    "plt.legend()\n",
    "plt.title(\"Accuracy over Epochs - CNN simplifié\")\n",
    "plt.show()\n",
    "\n",
    "# Évaluation finale du modèle Transfer VGG\n",
    "y_true_TA = np.array(all_labels_TA)\n",
    "y_prob_TA = np.array(all_preds_TA).flatten()\n",
    "y_pred_TA = y_prob_TA > 0.5\n",
    "\n",
    "print(\"\\n Classification Report du modèle CNN custom:\")\n",
    "print(classification_report(y_true_TA, y_pred_TA, target_names=class_names))\n",
    "print(f\"AUC: {roc_auc_score(y_true_TA, y_prob_TA):.5f}\")\n",
    "print(f\"F1 Score: {f1_score(y_true_TA, y_pred_TA):.5f}\")\n",
    "\n",
    "# Visualisation des performances\n",
    "plt.plot(train_accs_TA, label='Train Acc', linestyle='none', marker='o')\n",
    "plt.plot(val_accs_TA, label='Val Acc', linestyle='-', marker='')\n",
    "plt.legend()\n",
    "plt.title(\"Accuracy over Epochs - Transfer VGG16\")\n",
    "plt.show()\n",
    "\n",
    "# Évaluation de la régression logistique (LR + L2)\n",
    "print(\"\\n Évaluation de la régression logistique (LR + L2) :\")\n",
    "print(classification_report(y_val, y_pred_LR, target_names=class_names))\n",
    "print(f\"AUC: {roc_auc_score(y_val, y_prob_LR):.5f}\")\n",
    "print(f\"F1 Score: {f1_score(y_val, y_pred_LR):.5f}\")\n",
    "\n",
    "# Évaluation du SVM (SVM + L2)\n",
    "print(\"\\n Évaluation du modèle SVM + L2 :\")\n",
    "print(classification_report(y_val, y_pred_SVM, target_names=class_names))\n",
    "print(f\"AUC (approx): {roc_auc_score(y_val, y_prob_SVM):.5f}\")\n",
    "print(f\"F1 Score: {f1_score(y_val, y_pred_SVM):.5f}\")\n",
    "\n",
    "\n",
    "# Résultats \n",
    "results = {\n",
    "    \"CNN + DA + DO\": {\n",
    "        \"accuracy\": val_accs_CNN[-1],\n",
    "        \"auc\": roc_auc_score(y_true_CNN, y_prob_CNN),\n",
    "        \"f1\": f1_score(y_true_CNN, y_pred_CNN)\n",
    "    },\n",
    "    \"Transfer + DO\": {\n",
    "        \"accuracy\": val_accs_TA[-1],\n",
    "        \"auc\": roc_auc_score(y_true_TA, y_prob_TA),\n",
    "        \"f1\": f1_score(y_true_TA, y_pred_TA)\n",
    "    },\n",
    "    \"LR + L2\": {\n",
    "        \"accuracy\": accuracy_score(y_val, y_pred_LR),\n",
    "        \"auc\": roc_auc_score(y_val, y_prob_LR),\n",
    "        \"f1\": f1_score(y_val, y_pred_LR)\n",
    "    },\n",
    "    \"SVM + L2\": {\n",
    "        \"accuracy\": accuracy_score(y_val, y_pred_SVM),\n",
    "        \"auc\": roc_auc_score(y_val, y_prob_SVM),\n",
    "        \"f1\": f1_score(y_val, y_pred_SVM)\n",
    "    }\n",
    "}\n",
    "\n",
    "results_df = pd.DataFrame(results).T\n",
    "display(results_df)"
   ]
  },
  {
   "cell_type": "markdown",
   "metadata": {},
   "source": [
    "# Courbes"
   ]
  },
  {
   "cell_type": "code",
   "execution_count": 12,
   "metadata": {},
   "outputs": [
    {
     "data": {
      "image/png": "[encoded data removed]",
      "text/plain": [
       "<Figure size 1800x500 with 3 Axes>"
      ]
     },
     "metadata": {},
     "output_type": "display_data"
    }
   ],
   "source": [
    "# Barplot de comparaison\n",
    "fig, axs = plt.subplots(1, 3, figsize=(18, 5))\n",
    "\n",
    "metrics = ['accuracy', 'auc', 'f1']\n",
    "for i, metric in enumerate(metrics):\n",
    "    axs[i].bar(results_df.index, results_df[metric])\n",
    "    axs[i].set_title(f'{metric.upper()} Comparison')\n",
    "    axs[i].set_ylim(0.8, 1.0)\n",
    "    axs[i].set_ylabel(metric.upper())\n",
    "    axs[i].tick_params(axis='x', rotation=20)\n",
    "\n",
    "plt.suptitle(\" Performance des modèles\")\n",
    "plt.tight_layout()\n",
    "plt.show()"
   ]
  }
 ],
 "metadata": {
  "kernelspec": {
   "display_name": "base",
   "language": "python",
   "name": "python3"
  },
  "language_info": {
   "codemirror_mode": {
    "name": "ipython",
    "version": 3
   },
   "file_extension": ".py",
   "mimetype": "text/x-python",
   "name": "python",
   "nbconvert_exporter": "python",
   "pygments_lexer": "ipython3",
   "version": "3.10.13"
  }
 },
 "nbformat": 4,
 "nbformat_minor": 4
}
